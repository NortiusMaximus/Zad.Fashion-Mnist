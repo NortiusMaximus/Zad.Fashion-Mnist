{
 "cells": [
  {
   "cell_type": "markdown",
   "metadata": {},
   "source": [
    "# Zadanie: Fashion-Mnist"
   ]
  },
  {
   "cell_type": "markdown",
   "metadata": {},
   "source": [
    "## Krok 1"
   ]
  },
  {
   "cell_type": "markdown",
   "metadata": {},
   "source": [
    "Pierwszym krokiem będzie zaimplementowanie sieci neuronowej na używanym wcześniej zestawie Fashion-Mnist tak, aby uzyskać wynik na danych testowych rzędu accuracy > 0.94 (albo jak najbardziej zbliżony), używając poniższego podziału:\n",
    "\n",
    "X_train, X_test, y_train, y_test = \\\n",
    "    train_test_split(images, labels, test_size=0.1, random_state=10, stratify=labels)"
   ]
  },
  {
   "cell_type": "code",
   "execution_count": 1,
   "metadata": {},
   "outputs": [],
   "source": [
    "import numpy as np\n",
    "import matplotlib.pyplot as plt\n",
    "import pandas as pd\n",
    "import tensorflow as tf\n",
    "\n",
    "from keras.datasets import fashion_mnist\n",
    "\n",
    "from tensorflow.keras.models import Sequential\n",
    "from tensorflow.keras.layers import Conv2D, MaxPooling2D, Dense, Flatten\n",
    "from tensorflow.keras.optimizers import Adam\n",
    "\n",
    "from sklearn.model_selection import train_test_split\n",
    "\n",
    "\n",
    "train, test = tf.keras.datasets.fashion_mnist.load_data()\n",
    "\n",
    "images1, labels1 = train\n",
    "images2, labels2 = test\n",
    "\n",
    "# I have no idea why it doesn't work:\n",
    "# images = np.concatenate((images1, images2), axis=0)\n",
    "\n",
    "# so I had to go around:\n",
    "X1, X2, X3, X4, X5, X6 = np.split(images1, 6, axis=0)\n",
    "images = np.concatenate((X1, X2, X3, X4, X5, X6, images2), axis=0)\n",
    "\n",
    "X1, X2, X3, X4, X5, X6 = np.split(labels1, 6, axis=0)\n",
    "labels = np.concatenate((X1, X2, X3, X4, X5, X6, labels2), axis=0)\n",
    "\n",
    "# Pixel normalization\n",
    "images = images/255.0\n",
    "\n",
    "# Save as int\n",
    "labels = labels.astype(np.int32)"
   ]
  },
  {
   "cell_type": "code",
   "execution_count": 2,
   "metadata": {},
   "outputs": [],
   "source": [
    "# Split test and train data\n",
    "X_train, X_test, y_train, y_test = \\\n",
    "    train_test_split(images, labels, test_size=0.1, random_state=10, stratify=labels)"
   ]
  },
  {
   "cell_type": "code",
   "execution_count": 107,
   "metadata": {},
   "outputs": [],
   "source": [
    "# Define the architecture of the model\n",
    "def model_arch():\n",
    "    models = Sequential()\n",
    "\n",
    "    models.add(Conv2D(64, (5, 5),\n",
    "                      padding=\"same\",\n",
    "                      activation=\"relu\",\n",
    "                      input_shape=(28, 28, 1)))\n",
    " \n",
    "    models.add(MaxPooling2D(pool_size=(2, 2)))\n",
    "    \n",
    "    models.add(Conv2D(128, (5, 5),\n",
    "                      padding=\"same\",\n",
    "                      activation=\"relu\"))\n",
    " \n",
    "    models.add(MaxPooling2D(pool_size=(2, 2)))\n",
    "    \n",
    "    models.add(Conv2D(256, (5, 5), \n",
    "                      padding=\"same\",\n",
    "                      activation=\"relu\"))\n",
    " \n",
    "    models.add(MaxPooling2D(pool_size=(2, 2)))\n",
    " \n",
    "    models.add(Flatten())\n",
    "    \n",
    "    models.add(Dense(256, activation=\"relu\"))\n",
    " \n",
    "    models.add(Dense(10, activation=\"softmax\"))\n",
    "    return models"
   ]
  },
  {
   "cell_type": "code",
   "execution_count": 6,
   "metadata": {},
   "outputs": [
    {
     "name": "stdout",
     "output_type": "stream",
     "text": [
      "Model: \"sequential\"\n",
      "_________________________________________________________________\n",
      " Layer (type)                Output Shape              Param #   \n",
      "=================================================================\n",
      " conv2d (Conv2D)             (None, 28, 28, 64)        1664      \n",
      "                                                                 \n",
      " max_pooling2d (MaxPooling2  (None, 14, 14, 64)        0         \n",
      " D)                                                              \n",
      "                                                                 \n",
      " conv2d_1 (Conv2D)           (None, 14, 14, 128)       204928    \n",
      "                                                                 \n",
      " max_pooling2d_1 (MaxPoolin  (None, 7, 7, 128)         0         \n",
      " g2D)                                                            \n",
      "                                                                 \n",
      " conv2d_2 (Conv2D)           (None, 7, 7, 256)         819456    \n",
      "                                                                 \n",
      " max_pooling2d_2 (MaxPoolin  (None, 3, 3, 256)         0         \n",
      " g2D)                                                            \n",
      "                                                                 \n",
      " flatten (Flatten)           (None, 2304)              0         \n",
      "                                                                 \n",
      " dense (Dense)               (None, 256)               590080    \n",
      "                                                                 \n",
      " dense_1 (Dense)             (None, 10)                2570      \n",
      "                                                                 \n",
      "=================================================================\n",
      "Total params: 1618698 (6.17 MB)\n",
      "Trainable params: 1618698 (6.17 MB)\n",
      "Non-trainable params: 0 (0.00 Byte)\n",
      "_________________________________________________________________\n"
     ]
    }
   ],
   "source": [
    "# Model creation and summary\n",
    "model = model_arch()\n",
    " \n",
    "model.compile(optimizer=Adam(learning_rate=1e-3),\n",
    "              loss='sparse_categorical_crossentropy',\n",
    "              metrics=['accuracy'])\n",
    " \n",
    "model.summary()"
   ]
  },
  {
   "cell_type": "code",
   "execution_count": 161,
   "metadata": {},
   "outputs": [
    {
     "name": "stdout",
     "output_type": "stream",
     "text": [
      "Epoch 1/10\n",
      "100/100 [==============================] - 185s 2s/step - loss: 0.7014 - accuracy: 0.7441 - val_loss: 0.4157 - val_accuracy: 0.8521\n",
      "Epoch 2/10\n",
      "100/100 [==============================] - 186s 2s/step - loss: 0.3733 - accuracy: 0.8644 - val_loss: 0.3370 - val_accuracy: 0.8790\n",
      "Epoch 3/10\n",
      "100/100 [==============================] - 192s 2s/step - loss: 0.3029 - accuracy: 0.8909 - val_loss: 0.3298 - val_accuracy: 0.8781\n",
      "Epoch 4/10\n",
      "100/100 [==============================] - 186s 2s/step - loss: 0.2714 - accuracy: 0.9005 - val_loss: 0.2816 - val_accuracy: 0.8984\n",
      "Epoch 5/10\n",
      "100/100 [==============================] - 201s 2s/step - loss: 0.2433 - accuracy: 0.9097 - val_loss: 0.2609 - val_accuracy: 0.9041\n",
      "Epoch 6/10\n",
      "100/100 [==============================] - 229s 2s/step - loss: 0.2188 - accuracy: 0.9200 - val_loss: 0.2485 - val_accuracy: 0.9098\n",
      "Epoch 7/10\n",
      "100/100 [==============================] - 194s 2s/step - loss: 0.1956 - accuracy: 0.9278 - val_loss: 0.2464 - val_accuracy: 0.9109\n",
      "Epoch 8/10\n",
      "100/100 [==============================] - 225s 2s/step - loss: 0.1757 - accuracy: 0.9349 - val_loss: 0.2373 - val_accuracy: 0.9150\n",
      "Epoch 9/10\n",
      "100/100 [==============================] - 214s 2s/step - loss: 0.1594 - accuracy: 0.9415 - val_loss: 0.2419 - val_accuracy: 0.9144\n",
      "Epoch 10/10\n",
      "100/100 [==============================] - 209s 2s/step - loss: 0.1364 - accuracy: 0.9505 - val_loss: 0.2443 - val_accuracy: 0.9174\n"
     ]
    }
   ],
   "source": [
    "# Fitting\n",
    "history = model.fit(\n",
    "    X_train, y_train,\n",
    "    epochs=10,\n",
    "    steps_per_epoch=100,\n",
    "    validation_split=0.33\n",
    ")"
   ]
  },
  {
   "cell_type": "code",
   "execution_count": 162,
   "metadata": {},
   "outputs": [
    {
     "data": {
      "image/png": "[encoded data removed]",
      "text/plain": [
       "<Figure size 1000x600 with 1 Axes>"
      ]
     },
     "metadata": {},
     "output_type": "display_data"
    }
   ],
   "source": [
    "# Performance monitor\n",
    "pd.DataFrame(history.history).plot(figsize=(10,6))\n",
    "plt.grid(True)\n",
    "plt.gca().set_ylim(0, 1)\n",
    "plt.show()"
   ]
  },
  {
   "cell_type": "code",
   "execution_count": 165,
   "metadata": {},
   "outputs": [
    {
     "name": "stdout",
     "output_type": "stream",
     "text": [
      "219/219 [==============================] - 6s 28ms/step - loss: 0.2225 - accuracy: 0.9226\n"
     ]
    },
    {
     "data": {
      "text/plain": [
       "[0.2225392609834671, 0.9225714206695557]"
      ]
     },
     "execution_count": 165,
     "metadata": {},
     "output_type": "execute_result"
    }
   ],
   "source": [
    "# Evaluate\n",
    "model.evaluate(X_test, y_test)"
   ]
  },
  {
   "cell_type": "markdown",
   "metadata": {},
   "source": [
    "Overtrained model. But the overall performance is quite good."
   ]
  },
  {
   "cell_type": "markdown",
   "metadata": {},
   "source": [
    "## Krok 2"
   ]
  },
  {
   "cell_type": "markdown",
   "metadata": {},
   "source": [
    "Drugim krokiem będzie zapisanie i dostarczenie modelu oraz napisanie interfejsu, który przyjmuje wartość wejściową oraz zwraca wartość przewidzianą przez nasz model wraz z wyrysowanym obrazem wejściowym (aby można było zweryfikować wizualnie, czy działa)."
   ]
  },
  {
   "cell_type": "code",
   "execution_count": 15,
   "metadata": {},
   "outputs": [],
   "source": [
    "# Save the model\n",
    "model.save('./model_0.3.keras', overwrite=True)"
   ]
  },
  {
   "cell_type": "code",
   "execution_count": 3,
   "metadata": {},
   "outputs": [
    {
     "name": "stderr",
     "output_type": "stream",
     "text": [
      "WARNING:absl:Skipping variable loading for optimizer 'Adam', because it has 21 variables whereas the saved optimizer has 1 variables. \n"
     ]
    }
   ],
   "source": [
    "# Load the model - just in case\n",
    "# model = tf.keras.models.load_model('./model_0.3.keras')"
   ]
  },
  {
   "cell_type": "code",
   "execution_count": 4,
   "metadata": {},
   "outputs": [
    {
     "name": "stdout",
     "output_type": "stream",
     "text": [
      "2188/2188 [==============================] - 79s 36ms/step\n"
     ]
    }
   ],
   "source": [
    "# Predictions\n",
    "y_pred = model.predict(images)"
   ]
  },
  {
   "cell_type": "code",
   "execution_count": 13,
   "metadata": {},
   "outputs": [
    {
     "data": {
      "text/plain": [
       "5"
      ]
     },
     "execution_count": 13,
     "metadata": {},
     "output_type": "execute_result"
    }
   ],
   "source": [
    "# Sample prediction\n",
    "np.argmax(y_pred[69999])"
   ]
  },
  {
   "cell_type": "code",
   "execution_count": 15,
   "metadata": {},
   "outputs": [
    {
     "name": "stdout",
     "output_type": "stream",
     "text": [
      "Label name for number 5: Sandals\n"
     ]
    }
   ],
   "source": [
    "# Assign label names\n",
    "def get_label_name(number):\n",
    "    label_names = {\n",
    "        0: \"T-shirt/top\",\n",
    "        1: \"Trouser\",\n",
    "        2: \"Pullover\",\n",
    "        3: \"Dress\",\n",
    "        4: \"Coat\",\n",
    "        5: \"Sandals\",\n",
    "        6: \"Shirt\",\n",
    "        7: \"Sneaker\",\n",
    "        8: \"Bag\",\n",
    "        9: \"Ankle Boots\",\n",
    "    }\n",
    "\n",
    "    # Check if the number is valid and exists in the dictionary\n",
    "    if number in label_names:\n",
    "        return label_names[number]\n",
    "    else:\n",
    "        return \"Unknown\"\n",
    "\n",
    "# Example usage:\n",
    "label_name = get_label_name(np.argmax(y_pred[69999]))\n",
    "print(f\"Label name for number {np.argmax(y_pred[69999])}: {label_name}\")\n"
   ]
  },
  {
   "cell_type": "code",
   "execution_count": 22,
   "metadata": {},
   "outputs": [],
   "source": [
    "# The interface\n",
    "\n",
    "import PySimpleGUI as sg\n",
    "\n",
    "from io import BytesIO\n",
    "from PIL import Image\n",
    "\n",
    "# Define the layout for the PySimpleGUI window\n",
    "layout = [\n",
    "    [sg.Text(\"Enter a number between 1 and 70000: \")],\n",
    "    [sg.InputText(key=\"-NUMBER-\")],\n",
    "    [sg.Button(\"Show Result\"), sg.Button(\"Exit\")],\n",
    "    [sg.Text(\"\", size=(30, 1), key=\"-RESULT-\")],\n",
    "    [sg.Image(key=\"-IMAGE-\")],  # To display the image\n",
    "]\n",
    "\n",
    "# Create the PySimpleGUI window\n",
    "window = sg.Window(\"Number and Image Viewer\", layout)\n",
    "\n",
    "while True:\n",
    "    event, values = window.read()\n",
    "\n",
    "    if event == sg.WINDOW_CLOSED or event == \"Exit\":\n",
    "        break\n",
    "\n",
    "    try:\n",
    "        # Get the user input as an integer\n",
    "        user_number = int(values[\"-NUMBER-\"])\n",
    "\n",
    "        # Ensure the user input is within the valid range\n",
    "        if 1 <= user_number <= 70000:\n",
    "            # Display the prediction result\n",
    "            result = np.argmax(y_pred[user_number - 1])\n",
    "            window[\"-RESULT-\"].update(f\"Model prediction: {result} - {get_label_name(result)}\")\n",
    "\n",
    "            # Display the pseudocolor image within the PySimpleGUI window\n",
    "            if user_number <= len(images):\n",
    "                data = images[user_number - 1]\n",
    "                cmap = plt.get_cmap('viridis')\n",
    "                rgba_data = (cmap(data) * 255).astype(np.uint8)\n",
    "\n",
    "                # Convert the RGBA data to a PIL Image\n",
    "                img = Image.fromarray(rgba_data, 'RGBA')\n",
    "                img = img.resize((400, 400), Image.LANCZOS)\n",
    "\n",
    "                # Convert PIL Image to bytes for PySimpleGUI display\n",
    "                img_byte_array = BytesIO()\n",
    "                img.save(img_byte_array, format=\"PNG\")\n",
    "                img_byte_array.seek(0)\n",
    "\n",
    "                # Update the image element\n",
    "                window[\"-IMAGE-\"].update(data=img_byte_array.read())\n",
    "            else:\n",
    "                sg.popup_error(\"Scalar data not found.\")\n",
    "        else:\n",
    "            sg.popup_error(\"Please enter a number between 1 and 70000.\")\n",
    "    except ValueError:\n",
    "        sg.popup_error(\"Please enter a valid number.\")\n",
    "\n",
    "window.close()\n"
   ]
  },
  {
   "cell_type": "markdown",
   "metadata": {},
   "source": [
    "## Krok 3"
   ]
  },
  {
   "cell_type": "markdown",
   "metadata": {},
   "source": [
    "Trzecim krokiem będzie podbicie naszego wyniku do około 0.97 poprzez użycie technik augumentacji, czyli tworzenia nowy danych na bazie danych już istniejących."
   ]
  },
  {
   "cell_type": "code",
   "execution_count": 113,
   "metadata": {},
   "outputs": [],
   "source": [
    "import albumentations as A\n",
    "\n",
    "augmented_images_list = []\n",
    "\n",
    "# Define Albumentations augmentations\n",
    "augmentations = A.Compose([\n",
    "    A.RandomRotate90(),\n",
    "    A.Flip(),\n",
    "    A.Transpose(),\n",
    "    A.ShiftScaleRotate(shift_limit=0.1, scale_limit=0.1, rotate_limit=15, p=0.5),\n",
    "    A.RandomBrightnessContrast(p=0.2),\n",
    "])\n",
    "\n",
    "def augment_image(image):\n",
    "    # Ensure the input image data type is uint8 - this was quite a problem for me at first\n",
    "    image = (image * 255).astype(np.uint8)\n",
    "    augmented = augmentations(image=image)\n",
    "    augmented_image = augmented[\"image\"].astype(np.float32) / 255.0  # Convert back to float32\n",
    "    return augmented_image\n",
    "\n",
    "num_augmentations = 6  # Define no. of augmentations\n",
    "\n",
    "for n in range(num_augmentations):\n",
    "    for image in images:\n",
    "        augmented_image = augment_image(image)\n",
    "        augmented_images_list.append(augmented_image)\n",
    "\n",
    "# Convert into a 3D NumPy array\n",
    "augmented_images = np.stack(augmented_images_list, axis=0)"
   ]
  },
  {
   "cell_type": "code",
   "execution_count": 131,
   "metadata": {},
   "outputs": [
    {
     "data": {
      "image/png": "[encoded data removed]",
      "text/plain": [
       "<Figure size 1850x1050 with 7 Axes>"
      ]
     },
     "metadata": {},
     "output_type": "display_data"
    }
   ],
   "source": [
    "# Sample comparison - pre and post augmentation\n",
    "fig, axs = plt.subplots(1, num_augmentations+1)\n",
    "\n",
    "fig.set_size_inches(18.5, 10.5)\n",
    "\n",
    "axs[0].imshow(images[0])\n",
    "axs[0].set_title('Original image')\n",
    "\n",
    "for n in range(num_augmentations):\n",
    "    axs[n+1].imshow(augmented_images[0+(70000*n)])\n",
    "    axs[n+1].set_title('Augmented image {}'.format(n+1))\n",
    "\n",
    "#plt.subplots_adjust(wspace=1.0)\n",
    "\n",
    "plt.show()"
   ]
  },
  {
   "cell_type": "code",
   "execution_count": 138,
   "metadata": {},
   "outputs": [],
   "source": [
    "# Join old and new data, and split into test and training\n",
    "images_fin = np.concatenate((images, augmented_images), axis=0)\n",
    "\n",
    "labels_fin = np.empty(0,)\n",
    "for n in range(num_augmentations+1):\n",
    "    labels_fin = np.concatenate((labels_fin, labels), axis=0)\n",
    "\n",
    "X_train_fin, X_test_fin, y_train_fin, y_test_fin = \\\n",
    "    train_test_split(images, labels, test_size=0.1, random_state=10, stratify=labels)\n"
   ]
  },
  {
   "cell_type": "code",
   "execution_count": 108,
   "metadata": {},
   "outputs": [],
   "source": [
    "# Final model creation\n",
    "model_fin = model_arch()\n",
    " \n",
    "model_fin.compile(optimizer=Adam(learning_rate=1e-3),\n",
    "              loss='sparse_categorical_crossentropy',\n",
    "              metrics=['accuracy'])"
   ]
  },
  {
   "cell_type": "code",
   "execution_count": 141,
   "metadata": {},
   "outputs": [
    {
     "name": "stdout",
     "output_type": "stream",
     "text": [
      "Epoch 1/10\n",
      "100/100 [==============================] - 202s 2s/step - loss: 0.1062 - accuracy: 0.9620 - val_loss: 0.2601 - val_accuracy: 0.9140\n",
      "Epoch 2/10\n",
      "100/100 [==============================] - 209s 2s/step - loss: 0.0907 - accuracy: 0.9659 - val_loss: 0.2720 - val_accuracy: 0.9156\n",
      "Epoch 3/10\n",
      "100/100 [==============================] - 261s 3s/step - loss: 0.0825 - accuracy: 0.9701 - val_loss: 0.2533 - val_accuracy: 0.9199\n",
      "Epoch 4/10\n",
      "100/100 [==============================] - 256s 3s/step - loss: 0.0728 - accuracy: 0.9732 - val_loss: 0.2942 - val_accuracy: 0.9207\n",
      "Epoch 5/10\n",
      "100/100 [==============================] - 257s 3s/step - loss: 0.0607 - accuracy: 0.9781 - val_loss: 0.2817 - val_accuracy: 0.9163\n",
      "Epoch 6/10\n",
      "100/100 [==============================] - 259s 3s/step - loss: 0.0471 - accuracy: 0.9822 - val_loss: 0.2949 - val_accuracy: 0.9214\n",
      "Epoch 7/10\n",
      "100/100 [==============================] - 262s 3s/step - loss: 0.0393 - accuracy: 0.9856 - val_loss: 0.3153 - val_accuracy: 0.9160\n",
      "Epoch 8/10\n",
      "100/100 [==============================] - 260s 3s/step - loss: 0.0341 - accuracy: 0.9882 - val_loss: 0.3410 - val_accuracy: 0.9233\n",
      "Epoch 9/10\n",
      "100/100 [==============================] - 239s 2s/step - loss: 0.0300 - accuracy: 0.9895 - val_loss: 0.3776 - val_accuracy: 0.9136\n",
      "Epoch 10/10\n",
      "100/100 [==============================] - 246s 2s/step - loss: 0.0268 - accuracy: 0.9907 - val_loss: 0.3387 - val_accuracy: 0.9191\n"
     ]
    }
   ],
   "source": [
    "# Fitting final model\n",
    "history_fin = model_fin.fit(\n",
    "    X_train_fin, y_train_fin,\n",
    "    epochs=10,\n",
    "    steps_per_epoch=100,\n",
    "    validation_split=0.33\n",
    ")"
   ]
  },
  {
   "cell_type": "code",
   "execution_count": 142,
   "metadata": {},
   "outputs": [
    {
     "data": {
      "image/png": "[encoded data removed]",
      "text/plain": [
       "<Figure size 1000x600 with 1 Axes>"
      ]
     },
     "metadata": {},
     "output_type": "display_data"
    }
   ],
   "source": [
    "# Performance monitor\n",
    "pd.DataFrame(history_fin.history).plot(figsize=(10,6))\n",
    "plt.grid(True)\n",
    "plt.gca().set_ylim(0, 1)\n",
    "plt.show()"
   ]
  },
  {
   "cell_type": "code",
   "execution_count": 143,
   "metadata": {},
   "outputs": [
    {
     "name": "stdout",
     "output_type": "stream",
     "text": [
      "219/219 [==============================] - 10s 47ms/step - loss: 0.3174 - accuracy: 0.9246\n"
     ]
    },
    {
     "data": {
      "text/plain": [
       "[0.31743645668029785, 0.9245714545249939]"
      ]
     },
     "execution_count": 143,
     "metadata": {},
     "output_type": "execute_result"
    }
   ],
   "source": [
    "# Evaluate\n",
    "model_fin.evaluate(X_test_fin, y_test_fin)"
   ]
  },
  {
   "cell_type": "markdown",
   "metadata": {},
   "source": [
    "Overtrained model. But the overall performance is quite good."
   ]
  }
 ],
 "metadata": {
  "kernelspec": {
   "display_name": "base",
   "language": "python",
   "name": "python3"
  },
  "language_info": {
   "codemirror_mode": {
    "name": "ipython",
    "version": 3
   },
   "file_extension": ".py",
   "mimetype": "text/x-python",
   "name": "python",
   "nbconvert_exporter": "python",
   "pygments_lexer": "ipython3",
   "version": "3.10.9"
  },
  "orig_nbformat": 4
 },
 "nbformat": 4,
 "nbformat_minor": 2
}
